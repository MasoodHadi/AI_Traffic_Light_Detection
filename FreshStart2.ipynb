{
  "nbformat": 4,
  "nbformat_minor": 0,
  "metadata": {
    "colab": {
      "provenance": [],
      "authorship_tag": "ABX9TyMQlATEGpBhAiQr4gaM7XZV",
      "include_colab_link": true
    },
    "kernelspec": {
      "name": "python3",
      "display_name": "Python 3"
    },
    "language_info": {
      "name": "python"
    }
  },
  "cells": [
    {
      "cell_type": "markdown",
      "metadata": {
        "id": "view-in-github",
        "colab_type": "text"
      },
      "source": [
        "<a href=\"https://colab.research.google.com/github/MasoodHadi/AI_Traffic_Light_Detection/blob/main/FreshStart2.ipynb\" target=\"_parent\"><img src=\"https://colab.research.google.com/assets/colab-badge.svg\" alt=\"Open In Colab\"/></a>"
      ]
    },
    {
      "cell_type": "code",
      "source": [
        "from google.colab import drive\n",
        "drive.flush_and_unmount()\n",
        "print('Drive unmounted successfully.')\n"
      ],
      "metadata": {
        "colab": {
          "base_uri": "https://localhost:8080/"
        },
        "id": "l-aEYgogbmWM",
        "outputId": "9a134e01-7faf-4219-9147-b2ea90fd0bae"
      },
      "execution_count": null,
      "outputs": [
        {
          "output_type": "stream",
          "name": "stdout",
          "text": [
            "Drive not mounted, so nothing to flush and unmount.\n",
            "Drive unmounted successfully.\n"
          ]
        }
      ]
    },
    {
      "cell_type": "code",
      "source": [
        "import os\n",
        "\n",
        "# List contents of the mount directory\n",
        "print(os.listdir('/content/drive'))\n",
        "\n",
        "# If the list is not empty, you might need to manually clear the directory\n",
        "# WARNING: Be careful with deleting files; ensure they are not important.\n"
      ],
      "metadata": {
        "colab": {
          "base_uri": "https://localhost:8080/"
        },
        "id": "1sD2NKCOb1x9",
        "outputId": "4afdfa0b-4059-4b3b-d55f-5572226fb4ff"
      },
      "execution_count": null,
      "outputs": [
        {
          "output_type": "stream",
          "name": "stdout",
          "text": [
            "['.file-revisions-by-id', 'Shareddrives', 'MyDrive', '.shortcut-targets-by-id', '.Trash-0', '.Encrypted']\n"
          ]
        }
      ]
    },
    {
      "cell_type": "code",
      "source": [
        "from google.colab import drive\n",
        "drive.mount('/content/drive')\n"
      ],
      "metadata": {
        "colab": {
          "base_uri": "https://localhost:8080/"
        },
        "id": "TrSKhCuFb8do",
        "outputId": "f9c76673-fb44-4932-bdc1-e778cc84f75c"
      },
      "execution_count": null,
      "outputs": [
        {
          "output_type": "stream",
          "name": "stdout",
          "text": [
            "Mounted at /content/drive\n"
          ]
        }
      ]
    },
    {
      "cell_type": "code",
      "execution_count": null,
      "metadata": {
        "colab": {
          "base_uri": "https://localhost:8080/"
        },
        "id": "_PAk1Xd4cE5e",
        "outputId": "926810d9-e7d2-40b8-aff6-e4138ba0617d"
      },
      "outputs": [
        {
          "output_type": "stream",
          "name": "stdout",
          "text": [
            "Dummy labels generated in /content/drive/MyDrive/dataset_additional_rgb/test/labels\n"
          ]
        }
      ],
      "source": [
        "\n",
        "\n",
        "import os\n",
        "\n",
        "# Define paths\n",
        "image_folder = '/content/drive/MyDrive/dataset_additional_rgb/test/images'\n",
        "label_folder = '/content/drive/MyDrive/dataset_additional_rgb/test/labels'\n",
        "\n",
        "# Create labels folder if it doesn't exist\n",
        "os.makedirs(label_folder, exist_ok=True)\n",
        "\n",
        "# Load images and generate dummy labels for each image\n",
        "for image_file in os.listdir(image_folder):\n",
        "    if image_file.endswith(('.jpg', '.png')):\n",
        "        # Create a corresponding .txt file in the labels folder\n",
        "        label_file = os.path.join(label_folder, image_file.replace('.jpg', '.txt').replace('.png', '.txt'))\n",
        "        with open(label_file, 'w') as f:\n",
        "            # Write dummy data (class_id, x_center, y_center, width, height)\n",
        "            f.write('0 0.5 0.5 0.2 0.2\\n')\n",
        "\n",
        "print(f\"Dummy labels generated in {label_folder}\")\n"
      ]
    }
  ]
}